{
 "cells": [
  {
   "cell_type": "markdown",
   "metadata": {},
   "source": [
    "## Setup and Installation"
   ]
  },
  {
   "cell_type": "code",
   "execution_count": null,
   "metadata": {},
   "outputs": [],
   "source": [
    "!pip install -r ../requirements.txt"
   ]
  },
  {
   "cell_type": "markdown",
   "metadata": {},
   "source": [
    "## Download Hansard Reports"
   ]
  },
  {
   "cell_type": "code",
   "execution_count": null,
   "metadata": {},
   "outputs": [],
   "source": [
    "from src.data_downloader import download_hansard_reports\n",
    "from datetime import datetime\n",
    "\n",
    "# Define the date range\n",
    "start_date = datetime(2024, 6, 17)\n",
    "end_date = datetime(2024, 6, 19)\n",
    "\n",
    "# Download Hansard reports for the given range\n",
    "print(f\"Downloading Hansard reports from {start_date} to {end_date}...\")\n",
    "downloaded_report_paths = download_hansard_reports(start_date, end_date)"
   ]
  },
  {
   "cell_type": "markdown",
   "metadata": {},
   "source": [
    "## Extract Relevant Text"
   ]
  },
  {
   "cell_type": "code",
   "execution_count": null,
   "metadata": {},
   "outputs": [],
   "source": [
    "from src.text_extractor import extract_relevant_text\n",
    "\n",
    "# Define the topic for text extraction\n",
    "topic = \"Climate change\"\n",
    "\n",
    "# Extract relevant text from the downloaded reports\n",
    "relevant_text = None\n",
    "for report_path in downloaded_report_paths:\n",
    "    extracted_text = extract_relevant_text(report_path, topic, use_embeddings=True, top_k=5)\n",
    "    if extracted_text:\n",
    "        relevant_text = extracted_text\n",
    "        break  # Use the first relevant report\n",
    "\n",
    "if relevant_text:\n",
    "    print(f\"Extracted text: {relevant_text[:1000]}...\")  # Show the first 1000 characters\n",
    "else:\n",
    "    print(f\"No relevant text found for the topic '{topic}'.\")\n"
   ]
  },
  {
   "cell_type": "markdown",
   "metadata": {},
   "source": [
    "## Generate and Compare Summaries"
   ]
  },
  {
   "cell_type": "code",
   "execution_count": null,
   "metadata": {},
   "outputs": [],
   "source": [
    "from src.model_comparison import compare_llm_summaries\n",
    "\n",
    "# Define an optional reference summary (for ROUGE-L evaluation)\n",
    "reference_summary = \"This is a well-crafted reference summary for the topic.\"\n",
    "\n",
    "# Generate and compare summaries using different models\n",
    "if relevant_text:\n",
    "    print(\"Generating and comparing summaries from different models...\")\n",
    "    compare_llm_summaries(relevant_text, topic, length='medium', reference_summary=reference_summary)\n"
   ]
  },
  {
   "cell_type": "markdown",
   "metadata": {},
   "source": [
    "## CLI Example"
   ]
  },
  {
   "cell_type": "code",
   "execution_count": null,
   "metadata": {},
   "outputs": [],
   "source": [
    "# Show how users would use the CLI for main.py\n",
    "!python ../main.py --start_date 2024-06-17 --end_date 2024-06-19 --topic \"Climate change\" --summary_length \"medium\" --reference_summary \"This is a well-crafted reference summary for the topic.\"\n"
   ]
  }
 ],
 "metadata": {
  "language_info": {
   "name": "python"
  }
 },
 "nbformat": 4,
 "nbformat_minor": 2
}
